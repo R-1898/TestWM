{
 "cells": [
  {
   "cell_type": "code",
   "execution_count": 1,
   "metadata": {},
   "outputs": [],
   "source": [
    "import pandas as pd\n",
    "import mysql.connector"
   ]
  },
  {
   "cell_type": "markdown",
   "metadata": {},
   "source": [
    "**Conexion a la BD**"
   ]
  },
  {
   "cell_type": "code",
   "execution_count": 2,
   "metadata": {},
   "outputs": [
    {
     "name": "stdout",
     "output_type": "stream",
     "text": [
      "Conexión exitosa a MySQL\n"
     ]
    }
   ],
   "source": [
    "db_config = {\n",
    "    \"host\": \"localhost\",\n",
    "    \"user\":\"prueba\",\n",
    "    \"password\":\"Mero_8439*\",\n",
    "    \"database\":\"PRUEBA\"\n",
    "}\n",
    "\n",
    "try:\n",
    "    conexion = mysql.connector.connect(**db_config)\n",
    "    cursor = conexion.cursor()\n",
    "    print(\"Conexión exitosa a MySQL\")\n",
    "except mysql.connector.Error as err:\n",
    "    print(f\"Error al conectar a MySQL: {err}\")"
   ]
  },
  {
   "cell_type": "markdown",
   "metadata": {},
   "source": [
    "**Carga de datos**"
   ]
  },
  {
   "cell_type": "code",
   "execution_count": null,
   "metadata": {},
   "outputs": [
    {
     "name": "stdout",
     "output_type": "stream",
     "text": [
      "Columnas en asignatura.csv: Index(['asignatura_id', 'nombre', 'Semestre'], dtype='object')\n"
     ]
    }
   ],
   "source": [
    "df_asignatura = pd.read_csv(\"Asignaturas.csv\")\n",
    "\n",
    "print(\"Columnas en asignatura.csv:\", df_asignatura.columns)\n",
    "\n",
    "for index, row in df_asignatura.iterrows():\n",
    "    query = \"INSERT INTO asignaturas (asignatura_id, nombre, semestre) VALUES (%s, %s, %s)\"\n",
    "    values = (row['asignatura_id'], row['nombre'], row['Semestre'])\n",
    "    try:\n",
    "        cursor.execute(query, values)\n",
    "    except mysql.connector.Error as err:\n",
    "        print(f\"Error al insertar en asignaturas: {err}\")\n",
    "\n",
    "conexion.commit() "
   ]
  },
  {
   "cell_type": "code",
   "execution_count": null,
   "metadata": {},
   "outputs": [],
   "source": [
    "df_estudiante = pd.read_csv(\"estudiantes.csv\")\n",
    "print(\"Columnas en estudiante.csv:\", df_estudiante.columns)\n",
    "for index, row in df_estudiante.iterrows():\n",
    "    query = \"INSERT INTO estudiante (numero_cuenta, nombre) VALUES (%s, %s)\"\n",
    "    values = (row['numero_cuenta'], row['nombre'])\n",
    "    try:\n",
    "        cursor.execute(query, values)\n",
    "    except mysql.connector.Error as err:\n",
    "        print(f\"Error al insertar en estudiante: {err}\")\n",
    "\n",
    "conexion.commit()"
   ]
  },
  {
   "cell_type": "code",
   "execution_count": 17,
   "metadata": {},
   "outputs": [
    {
     "name": "stdout",
     "output_type": "stream",
     "text": [
      "Columnas en inscripcion.csv: Index(['curso_id', 'calificacion', 'num_cuenta', 'asignatura_id'], dtype='object')\n"
     ]
    }
   ],
   "source": [
    "df_inscripcion = pd.read_csv(\"Inscripcion.csv\")\n",
    "print(\"Columnas en inscripcion.csv:\", df_inscripcion.columns)\n",
    "\n",
    "for index, row in df_inscripcion.iterrows():\n",
    "    query = \"INSERT INTO inscripcion (curso_id, calificacion, asignatura_id, numero_cuenta) VALUES (%s, %s, %s, %s)\"\n",
    "\n",
    "    # Convertir a tipos nativos de Python\n",
    "    curso_id = int(row['curso_id'])  \n",
    "    calificacion = float(row['calificacion'])  # Si puede contener decimales, usa float\n",
    "    asignatura_id = int(row['asignatura_id'])\n",
    "    num_cuenta = int(row['num_cuenta'])\n",
    "\n",
    "    values = (curso_id, calificacion, asignatura_id, num_cuenta)\n",
    "\n",
    "    try:\n",
    "        cursor.execute(query, values)\n",
    "    except mysql.connector.Error as err:\n",
    "        print(f\"Error al insertar en inscripcion: {err}\")\n",
    "\n",
    "conexion.commit()"
   ]
  },
  {
   "cell_type": "markdown",
   "metadata": {},
   "source": [
    "**Realice una consulta que muestre las tres calificaciones mas altas obtenidas en cada asignatura.En la misma salida muestre el promedio de cada materia y una bandera que compare esta\n",
    "calificación con la obtenida por los alumnos en la primera consulta donde ‘1’ significa que la\n",
    "calificación fue mas alta que el promedio y ‘0’ que fue más baja.\n",
    "Con el uso de Python guarde en un CSV a los alumnos que tienen una calificación mayor al\n",
    "promedio.**"
   ]
  },
  {
   "cell_type": "code",
   "execution_count": null,
   "metadata": {},
   "outputs": [
    {
     "name": "stdout",
     "output_type": "stream",
     "text": [
      "                      asignatura                estudiante calificacion  \\\n",
      "0    Administracion de Proyectos  Vania Castellanos Juarez        10.00   \n",
      "1    Administracion de Proyectos       Nico Verdugo Blanes         9.00   \n",
      "2    Administracion de Proyectos      David Romero Mendoza         9.00   \n",
      "3                       Algebra          Fanny Rojas Tello        10.00   \n",
      "4                       Algebra          Javier Cruz Rojas        10.00   \n",
      "..                           ...                       ...          ...   \n",
      "116          Sistemas Operativos       Nico Verdugo Blanes        10.00   \n",
      "117          Sistemas Operativos       Carlos Juarez David        10.00   \n",
      "118                Termodinamica            Rosalva Vargas        10.00   \n",
      "119                Termodinamica    Maria Barriga Sandoval        10.00   \n",
      "120                Termodinamica  Vania Castellanos Juarez        10.00   \n",
      "\n",
      "     promedio  bandera  \n",
      "0    7.153846        1  \n",
      "1    7.153846        1  \n",
      "2    7.153846        1  \n",
      "3    7.677419        1  \n",
      "4    7.677419        1  \n",
      "..        ...      ...  \n",
      "116  7.440000        1  \n",
      "117  7.440000        1  \n",
      "118  7.035714        1  \n",
      "119  7.035714        1  \n",
      "120  7.035714        1  \n",
      "\n",
      "[121 rows x 5 columns]\n",
      "Alumnos con calificación mayor al promedio guardados en alumnos_mayor_promedio.csv\n"
     ]
    }
   ],
   "source": [
    "try:\n",
    "    query = \"\"\"\n",
    "    SELECT\n",
    "        a.nombre AS asignatura,\n",
    "        e.nombre AS estudiante,\n",
    "        i.calificacion,\n",
    "        (SELECT AVG(calificacion) FROM inscripcion WHERE asignatura_id = i.asignatura_id) AS promedio,\n",
    "        IF(i.calificacion > (SELECT AVG(calificacion) FROM inscripcion WHERE asignatura_id = i.asignatura_id), 1, 0) AS bandera\n",
    "    FROM\n",
    "        (SELECT\n",
    "             asignatura_id,\n",
    "             numero_cuenta,\n",
    "             calificacion,\n",
    "             @row_number := IF(@asignatura_id = asignatura_id, @row_number + 1, 1) AS rn,\n",
    "             @asignatura_id := asignatura_id\n",
    "         FROM\n",
    "             inscripcion\n",
    "         ORDER BY\n",
    "             asignatura_id, calificacion DESC\n",
    "        ) i\n",
    "    JOIN\n",
    "        asignaturas a ON i.asignatura_id = a.asignatura_id\n",
    "    JOIN\n",
    "        estudiante e ON i.numero_cuenta = e.numero_cuenta\n",
    "    WHERE\n",
    "        i.rn <= 3\n",
    "    ORDER BY\n",
    "        a.nombre, i.calificacion DESC;\n",
    "    \"\"\"\n",
    "\n",
    "    # Inicializar las variables de sesión\n",
    "    cursor.execute(\"SET @row_number = 0, @asignatura_id = NULL;\")\n",
    "\n",
    "    # Ejecutar el query\n",
    "    cursor.execute(query)\n",
    "\n",
    "    # Obtener los resultados\n",
    "    resultados = cursor.fetchall()\n",
    "\n",
    "    # Convertir los resultados a un DataFrame de pandas\n",
    "    df_resultados = pd.DataFrame(resultados, columns=['asignatura', 'estudiante', 'calificacion', 'promedio', 'bandera'])\n",
    "\n",
    "    # Imprimir el DataFrame\n",
    "    print(df_resultados)\n",
    "\n",
    "    # Filtrar alumnos con calificación mayor al promedio\n",
    "    alumnos_mayor_promedio = df_resultados[df_resultados['bandera'] == 1]\n",
    "\n",
    "    # Guardar en CSV\n",
    "    alumnos_mayor_promedio.to_csv('alumnos_mayor_promedio.csv', index=False)\n",
    "\n",
    "    print(\"Alumnos con calificación mayor al promedio guardados en alumnos_mayor_promedio.csv\")\n",
    "\n",
    "except mysql.connector.Error as err:\n",
    "    print(f\"Error al ejecutar el query: {err}\")"
   ]
  },
  {
   "cell_type": "markdown",
   "metadata": {},
   "source": [
    "**Ejercicio 2**\n",
    "1. Realice una consulta que muestre el porcentaje de avance de créditos de cada alumno con\n",
    "una bandera que clasifique a los alumnos de la siguiente manera:\n",
    "- Bandera ‘5’: Alumnos que tienen el 100% de créditos\n",
    "- Bandera ‘4’: Alumnos que tienen entre >=80% y <100% de créditos\n",
    "- Bandera ‘3’: Alumnos que tienen entre >=65% y <80% de créditos\n",
    "- Bandera ‘2’: Alumnos que tienen entre >=40% y <65% de créditos\n",
    "- Bandera ‘1’: Alumnos que tienen entre >=0% y <40% de créditos\n",
    "2. Con el uso de Python obtenga el top 10 y el bottom 10 de los alumnos con mayor y menor\n",
    "avance de créditos\n",
    "3. Genere un CSV bajo los siguientes lineamientos\n",
    "Almacene solo el nombre de los 10 alumnos con el mayor avance de créditos\n",
    "Almacene solo el nombre de los 10 alumnos con el menor avance de créditos"
   ]
  },
  {
   "cell_type": "code",
   "execution_count": null,
   "metadata": {},
   "outputs": [
    {
     "name": "stdout",
     "output_type": "stream",
     "text": [
      "Conexión exitosa a MySQL\n",
      "Top 10 alumnos guardados en top_10_alumnos.csv\n",
      "Bottom 10 alumnos guardados en bottom_10_alumnos.csv\n",
      "Conexión cerrada\n"
     ]
    }
   ],
   "source": [
    "try:\n",
    "    conexion = mysql.connector.connect(**db_config)\n",
    "    cursor = conexion.cursor()\n",
    "    print(\"Conexión exitosa a MySQL\")\n",
    "\n",
    "    query = \"\"\"\n",
    "        SELECT\n",
    "            e.nombre AS nombre_alumno,\n",
    "            COUNT(i.asignatura_id) AS total_materias_cursadas,\n",
    "            (SELECT COUNT(*) FROM asignaturas) AS total_materias,\n",
    "            (COUNT(i.asignatura_id) / (SELECT COUNT(*) FROM asignaturas)) * 100 AS porcentaje_avance,\n",
    "            CASE\n",
    "                WHEN (COUNT(i.asignatura_id) / (SELECT COUNT(*) FROM asignaturas)) * 100 = 100 THEN 5\n",
    "                WHEN (COUNT(i.asignatura_id) / (SELECT COUNT(*) FROM asignaturas)) * 100 >= 80 THEN 4\n",
    "                WHEN (COUNT(i.asignatura_id) / (SELECT COUNT(*) FROM asignaturas)) * 100 >= 65 THEN 3\n",
    "                WHEN (COUNT(i.asignatura_id) / (SELECT COUNT(*) FROM asignaturas)) * 100 >= 40 THEN 2\n",
    "                ELSE 1\n",
    "            END AS bandera_clasificacion\n",
    "        FROM\n",
    "            inscripcion i\n",
    "        JOIN\n",
    "            estudiante e ON i.numero_cuenta = e.numero_cuenta\n",
    "        GROUP BY\n",
    "            e.nombre\n",
    "        ORDER BY\n",
    "            porcentaje_avance DESC;\n",
    "    \"\"\"\n",
    "    cursor.execute(query)\n",
    "    resultados = cursor.fetchall()\n",
    "\n",
    "    df = pd.DataFrame(resultados, columns=['nombre_alumno', 'total_materias_cursadas', 'total_materias', 'porcentaje_avance', 'bandera_clasificacion'])\n",
    "\n",
    "    top_10 = df.head(10)\n",
    "    bottom_10 = df.tail(10)\n",
    "\n",
    "    top_10.to_csv('top_10_alumnos.csv', index=False)\n",
    "    bottom_10.to_csv('bottom_10_alumnos.csv', index=False)\n",
    "\n",
    "    print(\"Top 10 alumnos guardados en top_10_alumnos.csv\")\n",
    "    print(\"Bottom 10 alumnos guardados en bottom_10_alumnos.csv\")\n",
    "\n",
    "\n",
    "except mysql.connector.Error as err:\n",
    "    print(f\"Error al conectar a MySQL: {err}\")\n",
    "finally:\n",
    "    if 'conexion' in locals() and conexion.is_connected():\n",
    "        cursor.close()\n",
    "        conexion.close()\n",
    "        print(\"Conexión cerrada\")\n"
   ]
  },
  {
   "cell_type": "code",
   "execution_count": 26,
   "metadata": {},
   "outputs": [
    {
     "name": "stdout",
     "output_type": "stream",
     "text": [
      "              nombre_alumno  total_materias_cursadas  total_materias  \\\n",
      "0           Kike Vicens Bou                       40              51   \n",
      "1            Rosalva Vargas                       39              51   \n",
      "2       Nico Verdugo Blanes                       39              51   \n",
      "3      David Romero Mendoza                       38              51   \n",
      "4            Daiara Saldana                       38              51   \n",
      "5       Jorge Jimenez Palma                       38              51   \n",
      "6          Alexdr Nikolenko                       38              51   \n",
      "7          Karina Matamoroz                       38              51   \n",
      "8  Vania Castellanos Juarez                       38              51   \n",
      "9         Diego Luz Alvares                       38              51   \n",
      "\n",
      "  porcentaje_avance  bandera_clasificacion  \n",
      "0           78.4314                      3  \n",
      "1           76.4706                      3  \n",
      "2           76.4706                      3  \n",
      "3           74.5098                      3  \n",
      "4           74.5098                      3  \n",
      "5           74.5098                      3  \n",
      "6           74.5098                      3  \n",
      "7           74.5098                      3  \n",
      "8           74.5098                      3  \n",
      "9           74.5098                      3  \n"
     ]
    }
   ],
   "source": [
    "print(top_10.head(10))"
   ]
  },
  {
   "cell_type": "code",
   "execution_count": 27,
   "metadata": {},
   "outputs": [
    {
     "name": "stdout",
     "output_type": "stream",
     "text": [
      "                         nombre_alumno  total_materias_cursadas  \\\n",
      "21         Alexandra Navarrete Ramirez                       26   \n",
      "22  Rafael Alejandro Ramirez Contreras                       26   \n",
      "23              Paulina Arino Portillo                       26   \n",
      "24                   Lupita de Esteban                       26   \n",
      "25               Calisto Bolanos Bravo                       15   \n",
      "26                 Eugenio Galan Giron                       15   \n",
      "27              Hugo Martinez Martinez                       15   \n",
      "28       Juan Jose Ballesteros Aguirre                       10   \n",
      "29              Adelina Garcia Sanchez                       10   \n",
      "30                       Juliana Jodar                        5   \n",
      "\n",
      "    total_materias porcentaje_avance  bandera_clasificacion  \n",
      "21              51           50.9804                      2  \n",
      "22              51           50.9804                      2  \n",
      "23              51           50.9804                      2  \n",
      "24              51           50.9804                      2  \n",
      "25              51           29.4118                      1  \n",
      "26              51           29.4118                      1  \n",
      "27              51           29.4118                      1  \n",
      "28              51           19.6078                      1  \n",
      "29              51           19.6078                      1  \n",
      "30              51            9.8039                      1  \n"
     ]
    }
   ],
   "source": [
    "print(bottom_10.head(10))"
   ]
  },
  {
   "cell_type": "markdown",
   "metadata": {},
   "source": [
    "**Pregunta 3:**\n",
    "\n",
    "Explique cual sería el procedimiento para cargar los archivos CSV generados en el ejercicio anterior\n",
    "en una base de datos mediante el uso de alguna herramienta ETL que usted conozca"
   ]
  },
  {
   "cell_type": "markdown",
   "metadata": {},
   "source": [
    "**Para Power BI**\n",
    "\n",
    "- 1.- Abrir Power BI Desktop\n",
    "- 2.- Seleccionar \"Obtener datos\"\n",
    "- 3.- Cargar los 3 archivos csv (Asignaturas.csv, estudiantes.csv y Incripcion.csv)\n",
    "- 4.- BI mostrara una vista previa y podremos cambiar tipos de datos de columnas, eliminar filas o columnas\n",
    "- 5.- En la vista de modelo de BI, podremos relacionar las tablas entre si, de esta forma relacionamos Inscripcion con estudiantes y asignaturas\n",
    "- 6.- Una vez caragdos los datos, podremos crear visualizaciones"
   ]
  },
  {
   "cell_type": "markdown",
   "metadata": {},
   "source": [
    "**Pregunta 4**\n",
    "\n",
    "Describa que pasos usted usaría para retirar campos vacíos y caracteres especiales (comas, saltos\n",
    "de línea, diagonales, pipelines, etc.) en un archivo CSV y depositarlo en un repositorio utilizando\n",
    "una herramienta de flujos analíticos que usted conozca (Alteryx, Tableau Prep, etc.)."
   ]
  },
  {
   "cell_type": "markdown",
   "metadata": {},
   "source": [
    "**Para Power BI**\n",
    "\n",
    "- Con el editor de powerquery de Power BI hacienco clic en \"Transformar datos\", por ejemplo para quitar valores vaciones, seleccionamos la columna damos clic en la pestaña de reducir filas y le damos en quitar filas vacias\n",
    "\n",
    "- Para caracteres especiales en la parte de \"Reemplazar valores\" , ingresamos el caracter especial que deseamos eliminar y dejamos el campo vacio de \"Reemplazar con\" \n",
    "\n",
    "- Para cambiar tipos de datos basta con seleccionar la columna y seleccionar el tipo de dato que deseamos, y le damos en \"Cerrar y aplicar\""
   ]
  }
 ],
 "metadata": {
  "kernelspec": {
   "display_name": "pruebawm",
   "language": "python",
   "name": "python3"
  },
  "language_info": {
   "codemirror_mode": {
    "name": "ipython",
    "version": 3
   },
   "file_extension": ".py",
   "mimetype": "text/x-python",
   "name": "python",
   "nbconvert_exporter": "python",
   "pygments_lexer": "ipython3",
   "version": "3.9.21"
  }
 },
 "nbformat": 4,
 "nbformat_minor": 2
}
